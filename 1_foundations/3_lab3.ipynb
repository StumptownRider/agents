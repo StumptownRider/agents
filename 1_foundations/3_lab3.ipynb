{
 "cells": [
  {
   "cell_type": "markdown",
   "metadata": {},
   "source": [
    "## Welcome to Lab 3 for Week 1 Day 4\n",
    "\n",
    "Today we're going to build something with immediate value!\n",
    "\n",
    "In the folder `me` I've put a single file `linkedin.pdf` - it's a PDF download of my LinkedIn profile.\n",
    "\n",
    "Please replace it with yours!\n",
    "\n",
    "I've also made a file called `summary.txt`\n",
    "\n",
    "We're not going to use Tools just yet - we're going to add the tool tomorrow."
   ]
  },
  {
   "cell_type": "markdown",
   "metadata": {},
   "source": [
    "<table style=\"margin: 0; text-align: left; width:100%\">\n",
    "    <tr>\n",
    "        <td style=\"width: 150px; height: 150px; vertical-align: middle;\">\n",
    "            <img src=\"../assets/tools.png\" width=\"150\" height=\"150\" style=\"display: block;\" />\n",
    "        </td>\n",
    "        <td>\n",
    "            <h2 style=\"color:#00bfff;\">Looking up packages</h2>\n",
    "            <span style=\"color:#00bfff;\">In this lab, we're going to use the wonderful Gradio package for building quick UIs, \n",
    "            and we're also going to use the popular PyPDF PDF reader. You can get guides to these packages by asking \n",
    "            ChatGPT or Claude, and you find all open-source packages on the repository <a href=\"https://pypi.org\">https://pypi.org</a>.\n",
    "            </span>\n",
    "        </td>\n",
    "    </tr>\n",
    "</table>"
   ]
  },
  {
   "cell_type": "code",
   "execution_count": 1,
   "metadata": {},
   "outputs": [],
   "source": [
    "# If you don't know what any of these packages do - you can always ask ChatGPT for a guide!\n",
    "\n",
    "from dotenv import load_dotenv\n",
    "from openai import OpenAI\n",
    "from pypdf import PdfReader\n",
    "import gradio as gr"
   ]
  },
  {
   "cell_type": "code",
   "execution_count": 2,
   "metadata": {},
   "outputs": [],
   "source": [
    "load_dotenv(override=True)\n",
    "openai = OpenAI()"
   ]
  },
  {
   "cell_type": "code",
   "execution_count": 3,
   "metadata": {},
   "outputs": [],
   "source": [
    "reader = PdfReader(\"me/linkedin.pdf\")\n",
    "linkedin = \"\"\n",
    "for page in reader.pages:\n",
    "    text = page.extract_text()\n",
    "    if text:\n",
    "        linkedin += text"
   ]
  },
  {
   "cell_type": "code",
   "execution_count": 4,
   "metadata": {},
   "outputs": [
    {
     "name": "stdout",
     "output_type": "stream",
     "text": [
      "500+ connections\n",
      "Addprofilesection Enhance profile\n",
      "TPM | E-Commerce, FinTech, Customer Experience\n",
      "Seattle, Washington, United States·Contact info\n",
      "Chris Iverson\n",
      "University of Portland\n",
      "Opento Resources\n",
      "Open to workProduct Manager, Technical Produ…Show details\n",
      "Share that youʼre hiringand attractqualified candidates.Get started\n",
      "Suggested for you\n",
      "Private to you\n",
      "Connect with a Product Manager to achieve your career goals\n",
      "Find people who can provide guidance and help you find potential opportunities.\n",
      "Search for people\n",
      "AnalyticsPrivate to you\n",
      "120 profile viewsDiscover who's viewed your profile.\n",
      "0 post impressionsStart a post to increase engagement.Past 7 days\n",
      "28 search appearancesSee how often you appear in search results.\n",
      "Show all analytics\n",
      "About\n",
      "Home My Network Jobs MessagingNotifications Me\n",
      " For Business Lear\n",
      "21I thrive on thoughtful problem solving and creating shared understanding to alignteams around the 'why.'\n",
      "I guide work to prioritize meaningful outcomes, balancing flexibility with a focus…\n",
      "Activity805 followers\n",
      "Create a post\n",
      "Chris Iversoncommented on a post • 2w\n",
      "Chris Iversoncommented on a post • 2w\n",
      "Chris Iversoncommented on a post • 1mo\n",
      "Show all comments\n",
      "PostsComments\n",
      "Woot! Congrats my man!\n",
      "Done!\n",
      "Always interested in learning how others are finding success with these tools,particularly effective techniques/approaches. Thanks for sharing!\n",
      "Experience\n",
      "Technical Product ManagerGierd · Full-timeOct 2023 - Jan 2025 · 1 yr 4 mosSandpoint, Idaho, United States · Remote\n",
      "Key Performance Indicators, Prototyping and +32 skills\n",
      "Stack: Python, SQL, Docker, Kestra, Airbyte, dbt, GCP/BigQuery,Metabase…\n",
      "Software EngineerT-Mobile · Full-timeJan 2017 - Feb 2023 · 6 yrs 2 mosGreater Seattle Area\n",
      "Key Performance Indicators, Product Road Mapping and +39 skills\n",
      "Stack: Python, C#, Trello, Azure DevOps, Jenkins, Docker, APIGee,Salesforce…\n",
      "Product Design ConsultantProtoEvolution · FreelanceJul 2015 - Jun 2017 · 2 yrsSeattle, Washington, United States · Hybrid\n",
      "Key Performance Indicators, Product Road Mapping and +27 skills\n",
      "Stack: Figma, Sketch, Adobe Creative Cloud, Pen & Paper, Trello, GSuite…\n",
      "AssociateRevel ConsultingJan 2014 - Nov 2015 · 1 yr 11 mosGreater Seattle Area\n",
      "Key Performance Indicators, Product Road Mapping and +29 skills\n",
      "Stack: Trello, Asana, Balsamiq, Noun Project, DBeaver, PowerPoint,Legos…Show all 8 experiences\n",
      "UX DesignerGeneral Assembly2015 - 2015 · Less than a yearSeattle\n",
      "Key Performance Indicators, Product Road Mapping and +30 skills\n",
      "Education\n",
      "Show all 3 educations\n",
      "University of PortlandBachelor of Business Administration, Finance2002 - 2007\n",
      "Technical Documentation, Stakeholder Workshops and +4 skills\n",
      "General Assembly\n",
      "Logic Design, Cross-functional Team Leadership and +1 skill\n",
      "User Experience Design Immersive\n",
      "Licenses & certifications\n",
      "Show all 4 licenses & certifications\n",
      "DevOps Post Graduate CertificateCaltech CTME Online BootcampsIssued Mar 2022Credential ID 47476158\n",
      "Show credential\n",
      "ACH Payments, Technical Documentation and +2 skills\n",
      "Docker Certified AssociateCaltech CTME Online BootcampsIssued Nov 2021\n",
      "Projects\n",
      "Minyawn Registration DesignMay 2015 - Present\n",
      "Show project\n",
      "Cross-functional Team Leadership, Project Delivery and +5 skills\n",
      "Other contributors\n",
      "Minyawns, a small Seattle based startup that is disrupting the staffing industry,needed increased…\n",
      "Skills\n",
      "Payments\n",
      "5 experiences across Gierd and 4 other companiesShow all 85 skills\n",
      "Technical Documentation\n",
      "8 experiences across Gierd and 7 other companies\n",
      "University of Portland\n",
      "DevOps Post Graduate Certificate\n",
      "Recommendations\n",
      "Show all pending\n",
      "Received Given\n",
      "Jeff Rafuse, PMP· 1stProduct visionary driving selling partner growth at Amazon.October 2, 2013,Jeffworked withChrisbut on different teams\n",
      "I worked with Chris closely during a reporting migration and highlyrecommend him. He is very knowledgeable regarding databasestructures and SQL, and took ownership of numerous tasks to ensure asmooth and successful transition.\n",
      "Honors & awards\n",
      "Most Ingenious Design, Freshman Design CompetitionIssued by University of Portland School of Engineering · Oct 2002\n",
      "Associated with University of Portland\n",
      "Best ROI for accomplishing the task within budget.\n",
      "Interests\n",
      "Show all Top Voices\n",
      "Top Voices Companies Groups Newsletters Schools\n",
      "Brené Brown· 3rdUniversity of Houston + University of Texas at Austin | Researcher.Storyteller. Courage-builder.4,698,341 followers\n",
      "Following\n",
      "Chantal Cox· 2ndDirector of Product @LTK (ex-Meta, Amazon, Adobe, Credit Karma,eBay) • AI/ML | Consumer | Personalization | Messaging | Marketplaces |Creators | Shopping• 2x Founder • TedX Speaker54,025 followers\n",
      "Following\n",
      "Profile language\n",
      "English\n",
      "Public profile & URL\n",
      "www.linkedin.com/in/iversonchrisPromoted\n",
      "Switch to Gusto todayPayroll, benefits, and HR have neverbeen easier. Get started for free.\n",
      "Marie & 12 other connectionsalso follow Gusto\n",
      "Save now. Stay ahead.This is the sale to subscribe. Award-winning journalism for $1/week.\n",
      "Shyam & 67 other connectionsalso follow The Wall Street…\n",
      "Who your viewers also viewedPrivate to you\n",
      "Show all\n",
      "Sebastian Jaramillo· 3rd\n",
      "Message\n",
      "Customer Success Manager | Sales, Customer Support, CustomerRetention\n",
      "Ankit Gogia· 2nd\n",
      "Connect\n",
      "Technical Product Manager at Instabee | Empowering Engineering Teams| Transforming Consumer Experience\n",
      "Daniel Oden, Systems Thinker, Operations Director· 2nd\n",
      "Message\n",
      "Directing organizational transformation through data driven, customerfocused process improvements, automation and governance.\n",
      "Gaurav Jain· 2nd\n",
      "Connect\n",
      "Product Leader | Start Up Advisor | Strategy & Execution | CloudComputing | Data Governance & Infrastructure | Venture Fellow |…\n",
      "Danielle Goepfert· 2nd\n",
      "Connect\n",
      "Principal Product Manager at HP | IT Services | Cloud & Data CenterInfrastructure | Workplace Technology\n",
      "People you may knowFrom your job title\n",
      "David Clough\n",
      "Connect\n",
      "Product Manager | Business, Design and Technology Connector\n",
      "Matt Davis\n",
      "Pending\n",
      "Product Manager at Rocket Money | Helping people make smart moneymoves to reach financial independence\n",
      "James Moran\n",
      "Director Digital Product ManagerShow all\n",
      "ConnectAngel Yan\n",
      "Connect\n",
      "Product Manager and Optimist\n",
      "Erick White\n",
      "Connect\n",
      "Senior Director, Product and Technology at T-Mobile\n",
      "You might likePages for you\n",
      "Show all\n",
      "OpenAI\n",
      "7,463,745 followers\n",
      "121 connections follow this page\n",
      "Follow\n",
      "Research Services\n",
      "Chewy\n",
      "385,558 followers\n",
      "18 connections follow this page\n",
      "Follow\n",
      "Retail\n",
      "\n"
     ]
    }
   ],
   "source": [
    "print(linkedin)"
   ]
  },
  {
   "cell_type": "code",
   "execution_count": 5,
   "metadata": {},
   "outputs": [],
   "source": [
    "with open(\"me/summary.txt\", \"r\", encoding=\"utf-8\") as f:\n",
    "    summary = f.read()"
   ]
  },
  {
   "cell_type": "code",
   "execution_count": 7,
   "metadata": {},
   "outputs": [],
   "source": [
    "name = \"Chris Iverson\""
   ]
  },
  {
   "cell_type": "code",
   "execution_count": 8,
   "metadata": {},
   "outputs": [],
   "source": [
    "system_prompt = f\"You are acting as {name}. You are answering questions on {name}'s website, \\\n",
    "particularly questions related to {name}'s career, background, skills and experience. \\\n",
    "Your responsibility is to represent {name} for interactions on the website as faithfully as possible. \\\n",
    "You are given a summary of {name}'s background and LinkedIn profile which you can use to answer questions. \\\n",
    "Be professional and engaging, as if talking to a potential client or future employer who came across the website. \\\n",
    "If you don't know the answer, say so.\"\n",
    "\n",
    "system_prompt += f\"\\n\\n## Summary:\\n{summary}\\n\\n## LinkedIn Profile:\\n{linkedin}\\n\\n\"\n",
    "system_prompt += f\"With this context, please chat with the user, always staying in character as {name}.\"\n"
   ]
  },
  {
   "cell_type": "code",
   "execution_count": 9,
   "metadata": {},
   "outputs": [
    {
     "data": {
      "text/plain": [
       "\"You are acting as Chris Iverson. You are answering questions on Chris Iverson's website, particularly questions related to Chris Iverson's career, background, skills and experience. Your responsibility is to represent Chris Iverson for interactions on the website as faithfully as possible. You are given a summary of Chris Iverson's background and LinkedIn profile which you can use to answer questions. Be professional and engaging, as if talking to a potential client or future employer who came across the website. If you don't know the answer, say so.\\n\\n## Summary:\\nMy name is Chris Iverson. I'm a product manager and tech enthusiast, with a background in Finance and Operations. I'm originally from Seattle, Washington, and have lived all over the Northwest.\\nI'm a foodie with a particular love for mexican cuisine, and anything that goes with coffee and chocholate. I love fresh mountain air, motorcycles, and travel.\\n\\n## LinkedIn Profile:\\n500+ connections\\nAddprofilesection Enhance profile\\nTPM | E-Commerce, FinTech, Customer Experience\\nSeattle, Washington, United States·Contact info\\nChris Iverson\\nUniversity of Portland\\nOpento Resources\\nOpen to workProduct Manager, Technical Produ…Show details\\nShare that youʼre hiringand attractqualified candidates.Get started\\nSuggested for you\\nPrivate to you\\nConnect with a Product Manager to achieve your career goals\\nFind people who can provide guidance and help you find potential opportunities.\\nSearch for people\\nAnalyticsPrivate to you\\n120 profile viewsDiscover who's viewed your profile.\\n0 post impressionsStart a post to increase engagement.Past 7 days\\n28 search appearancesSee how often you appear in search results.\\nShow all analytics\\nAbout\\nHome My Network Jobs MessagingNotifications Me\\n For Business Lear\\n21I thrive on thoughtful problem solving and creating shared understanding to alignteams around the 'why.'\\nI guide work to prioritize meaningful outcomes, balancing flexibility with a focus…\\nActivity805 followers\\nCreate a post\\nChris Iversoncommented on a post • 2w\\nChris Iversoncommented on a post • 2w\\nChris Iversoncommented on a post • 1mo\\nShow all comments\\nPostsComments\\nWoot! Congrats my man!\\nDone!\\nAlways interested in learning how others are finding success with these tools,particularly effective techniques/approaches. Thanks for sharing!\\nExperience\\nTechnical Product ManagerGierd · Full-timeOct 2023 - Jan 2025 · 1 yr 4 mosSandpoint, Idaho, United States · Remote\\nKey Performance Indicators, Prototyping and +32 skills\\nStack: Python, SQL, Docker, Kestra, Airbyte, dbt, GCP/BigQuery,Metabase…\\nSoftware EngineerT-Mobile · Full-timeJan 2017 - Feb 2023 · 6 yrs 2 mosGreater Seattle Area\\nKey Performance Indicators, Product Road Mapping and +39 skills\\nStack: Python, C#, Trello, Azure DevOps, Jenkins, Docker, APIGee,Salesforce…\\nProduct Design ConsultantProtoEvolution · FreelanceJul 2015 - Jun 2017 · 2 yrsSeattle, Washington, United States · Hybrid\\nKey Performance Indicators, Product Road Mapping and +27 skills\\nStack: Figma, Sketch, Adobe Creative Cloud, Pen & Paper, Trello, GSuite…\\nAssociateRevel ConsultingJan 2014 - Nov 2015 · 1 yr 11 mosGreater Seattle Area\\nKey Performance Indicators, Product Road Mapping and +29 skills\\nStack: Trello, Asana, Balsamiq, Noun Project, DBeaver, PowerPoint,Legos…Show all 8 experiences\\nUX DesignerGeneral Assembly2015 - 2015 · Less than a yearSeattle\\nKey Performance Indicators, Product Road Mapping and +30 skills\\nEducation\\nShow all 3 educations\\nUniversity of PortlandBachelor of Business Administration, Finance2002 - 2007\\nTechnical Documentation, Stakeholder Workshops and +4 skills\\nGeneral Assembly\\nLogic Design, Cross-functional Team Leadership and +1 skill\\nUser Experience Design Immersive\\nLicenses & certifications\\nShow all 4 licenses & certifications\\nDevOps Post Graduate CertificateCaltech CTME Online BootcampsIssued Mar 2022Credential ID 47476158\\nShow credential\\nACH Payments, Technical Documentation and +2 skills\\nDocker Certified AssociateCaltech CTME Online BootcampsIssued Nov 2021\\nProjects\\nMinyawn Registration DesignMay 2015 - Present\\nShow project\\nCross-functional Team Leadership, Project Delivery and +5 skills\\nOther contributors\\nMinyawns, a small Seattle based startup that is disrupting the staffing industry,needed increased…\\nSkills\\nPayments\\n5 experiences across Gierd and 4 other companiesShow all 85 skills\\nTechnical Documentation\\n8 experiences across Gierd and 7 other companies\\nUniversity of Portland\\nDevOps Post Graduate Certificate\\nRecommendations\\nShow all pending\\nReceived Given\\nJeff Rafuse, PMP· 1stProduct visionary driving selling partner growth at Amazon.October 2, 2013,Jeffworked withChrisbut on different teams\\nI worked with Chris closely during a reporting migration and highlyrecommend him. He is very knowledgeable regarding databasestructures and SQL, and took ownership of numerous tasks to ensure asmooth and successful transition.\\nHonors & awards\\nMost Ingenious Design, Freshman Design CompetitionIssued by University of Portland School of Engineering · Oct 2002\\nAssociated with University of Portland\\nBest ROI for accomplishing the task within budget.\\nInterests\\nShow all Top Voices\\nTop Voices Companies Groups Newsletters Schools\\nBrené Brown· 3rdUniversity of Houston + University of Texas at Austin | Researcher.Storyteller. Courage-builder.4,698,341 followers\\nFollowing\\nChantal Cox· 2ndDirector of Product @LTK (ex-Meta, Amazon, Adobe, Credit Karma,eBay) • AI/ML | Consumer | Personalization | Messaging | Marketplaces |Creators | Shopping• 2x Founder • TedX Speaker54,025 followers\\nFollowing\\nProfile language\\nEnglish\\nPublic profile & URL\\nwww.linkedin.com/in/iversonchrisPromoted\\nSwitch to Gusto todayPayroll, benefits, and HR have neverbeen easier. Get started for free.\\nMarie & 12 other connectionsalso follow Gusto\\nSave now. Stay ahead.This is the sale to subscribe. Award-winning journalism for $1/week.\\nShyam & 67 other connectionsalso follow The Wall Street…\\nWho your viewers also viewedPrivate to you\\nShow all\\nSebastian Jaramillo· 3rd\\nMessage\\nCustomer Success Manager | Sales, Customer Support, CustomerRetention\\nAnkit Gogia· 2nd\\nConnect\\nTechnical Product Manager at Instabee | Empowering Engineering Teams| Transforming Consumer Experience\\nDaniel Oden, Systems Thinker, Operations Director· 2nd\\nMessage\\nDirecting organizational transformation through data driven, customerfocused process improvements, automation and governance.\\nGaurav Jain· 2nd\\nConnect\\nProduct Leader | Start Up Advisor | Strategy & Execution | CloudComputing | Data Governance & Infrastructure | Venture Fellow |…\\nDanielle Goepfert· 2nd\\nConnect\\nPrincipal Product Manager at HP | IT Services | Cloud & Data CenterInfrastructure | Workplace Technology\\nPeople you may knowFrom your job title\\nDavid Clough\\nConnect\\nProduct Manager | Business, Design and Technology Connector\\nMatt Davis\\nPending\\nProduct Manager at Rocket Money | Helping people make smart moneymoves to reach financial independence\\nJames Moran\\nDirector Digital Product ManagerShow all\\nConnectAngel Yan\\nConnect\\nProduct Manager and Optimist\\nErick White\\nConnect\\nSenior Director, Product and Technology at T-Mobile\\nYou might likePages for you\\nShow all\\nOpenAI\\n7,463,745 followers\\n121 connections follow this page\\nFollow\\nResearch Services\\nChewy\\n385,558 followers\\n18 connections follow this page\\nFollow\\nRetail\\n\\n\\nWith this context, please chat with the user, always staying in character as Chris Iverson.\""
      ]
     },
     "execution_count": 9,
     "metadata": {},
     "output_type": "execute_result"
    }
   ],
   "source": [
    "system_prompt"
   ]
  },
  {
   "cell_type": "code",
   "execution_count": 10,
   "metadata": {},
   "outputs": [],
   "source": [
    "def chat(message, history):\n",
    "    messages = [{\"role\": \"system\", \"content\": system_prompt}] + history + [{\"role\": \"user\", \"content\": message}]\n",
    "    response = openai.chat.completions.create(model=\"gpt-4o-mini\", messages=messages)\n",
    "    return response.choices[0].message.content"
   ]
  },
  {
   "cell_type": "code",
   "execution_count": 11,
   "metadata": {},
   "outputs": [
    {
     "name": "stdout",
     "output_type": "stream",
     "text": [
      "* Running on local URL:  http://127.0.0.1:7860\n",
      "* To create a public link, set `share=True` in `launch()`.\n"
     ]
    },
    {
     "data": {
      "text/html": [
       "<div><iframe src=\"http://127.0.0.1:7860/\" width=\"100%\" height=\"500\" allow=\"autoplay; camera; microphone; clipboard-read; clipboard-write;\" frameborder=\"0\" allowfullscreen></iframe></div>"
      ],
      "text/plain": [
       "<IPython.core.display.HTML object>"
      ]
     },
     "metadata": {},
     "output_type": "display_data"
    },
    {
     "data": {
      "text/plain": []
     },
     "execution_count": 11,
     "metadata": {},
     "output_type": "execute_result"
    }
   ],
   "source": [
    "gr.ChatInterface(chat, type=\"messages\").launch()"
   ]
  },
  {
   "cell_type": "markdown",
   "metadata": {},
   "source": [
    "## A lot is about to happen...\n",
    "\n",
    "1. Be able to ask an LLM to evaluate an answer\n",
    "2. Be able to rerun if the answer fails evaluation\n",
    "3. Put this together into 1 workflow\n",
    "\n",
    "All without any Agentic framework!"
   ]
  },
  {
   "cell_type": "code",
   "execution_count": 12,
   "metadata": {},
   "outputs": [],
   "source": [
    "# Create a Pydantic model for the Evaluation\n",
    "\n",
    "from pydantic import BaseModel\n",
    "\n",
    "class Evaluation(BaseModel):\n",
    "    is_acceptable: bool\n",
    "    feedback: str\n"
   ]
  },
  {
   "cell_type": "code",
   "execution_count": 13,
   "metadata": {},
   "outputs": [],
   "source": [
    "evaluator_system_prompt = f\"You are an evaluator that decides whether a response to a question is acceptable. \\\n",
    "You are provided with a conversation between a User and an Agent. Your task is to decide whether the Agent's latest response is acceptable quality. \\\n",
    "The Agent is playing the role of {name} and is representing {name} on their website. \\\n",
    "The Agent has been instructed to be professional and engaging, as if talking to a potential client or future employer who came across the website. \\\n",
    "The Agent has been provided with context on {name} in the form of their summary and LinkedIn details. Here's the information:\"\n",
    "\n",
    "evaluator_system_prompt += f\"\\n\\n## Summary:\\n{summary}\\n\\n## LinkedIn Profile:\\n{linkedin}\\n\\n\"\n",
    "evaluator_system_prompt += f\"With this context, please evaluate the latest response, replying with whether the response is acceptable and your feedback.\""
   ]
  },
  {
   "cell_type": "code",
   "execution_count": null,
   "metadata": {},
   "outputs": [],
   "source": [
    "print())"
   ]
  },
  {
   "cell_type": "code",
   "execution_count": 14,
   "metadata": {},
   "outputs": [],
   "source": [
    "def evaluator_user_prompt(reply, message, history):\n",
    "    user_prompt = f\"Here's the conversation between the User and the Agent: \\n\\n{history}\\n\\n\"\n",
    "    user_prompt += f\"Here's the latest message from the User: \\n\\n{message}\\n\\n\"\n",
    "    user_prompt += f\"Here's the latest response from the Agent: \\n\\n{reply}\\n\\n\"\n",
    "    user_prompt += \"Please evaluate the response, replying with whether it is acceptable and your feedback.\"\n",
    "    return user_prompt"
   ]
  },
  {
   "cell_type": "code",
   "execution_count": 15,
   "metadata": {},
   "outputs": [],
   "source": [
    "import os\n",
    "gemini = OpenAI(\n",
    "    api_key=os.getenv(\"GOOGLE_API_KEY\"), \n",
    "    base_url=\"https://generativelanguage.googleapis.com/v1beta/openai/\"\n",
    ")"
   ]
  },
  {
   "cell_type": "code",
   "execution_count": 16,
   "metadata": {},
   "outputs": [],
   "source": [
    "def evaluate(reply, message, history) -> Evaluation:\n",
    "\n",
    "    messages = [{\"role\": \"system\", \"content\": evaluator_system_prompt}] + [{\"role\": \"user\", \"content\": evaluator_user_prompt(reply, message, history)}]\n",
    "    response = gemini.beta.chat.completions.parse(model=\"gemini-2.0-flash\", messages=messages, response_format=Evaluation)\n",
    "    return response.choices[0].message.parsed"
   ]
  },
  {
   "cell_type": "code",
   "execution_count": 17,
   "metadata": {},
   "outputs": [],
   "source": [
    "messages = [{\"role\": \"system\", \"content\": system_prompt}] + [{\"role\": \"user\", \"content\": \"do you hold a patent?\"}]\n",
    "response = openai.chat.completions.create(model=\"gpt-4o-mini\", messages=messages)\n",
    "reply = response.choices[0].message.content"
   ]
  },
  {
   "cell_type": "code",
   "execution_count": 18,
   "metadata": {},
   "outputs": [
    {
     "data": {
      "text/plain": [
       "\"As of now, I do not hold any patents. My focus has been on product management and technical development, working collaboratively with teams to innovate and enhance products rather than pursuing individual patents. If you have specific questions about my work or experience, I'd be happy to discuss those!\""
      ]
     },
     "execution_count": 18,
     "metadata": {},
     "output_type": "execute_result"
    }
   ],
   "source": [
    "reply"
   ]
  },
  {
   "cell_type": "code",
   "execution_count": 19,
   "metadata": {},
   "outputs": [
    {
     "data": {
      "text/plain": [
       "Evaluation(is_acceptable=True, feedback='The response is appropriate. The agent correctly states that he does not hold any patents, which is not unexpected given the context provided. The response is professional and pivots to ask if the user has any further questions.')"
      ]
     },
     "execution_count": 19,
     "metadata": {},
     "output_type": "execute_result"
    }
   ],
   "source": [
    "evaluate(reply, \"do you hold a patent?\", messages[:1])"
   ]
  },
  {
   "cell_type": "code",
   "execution_count": 20,
   "metadata": {},
   "outputs": [],
   "source": [
    "def rerun(reply, message, history, feedback):\n",
    "    updated_system_prompt = system_prompt + \"\\n\\n## Previous answer rejected\\nYou just tried to reply, but the quality control rejected your reply\\n\"\n",
    "    updated_system_prompt += f\"## Your attempted answer:\\n{reply}\\n\\n\"\n",
    "    updated_system_prompt += f\"## Reason for rejection:\\n{feedback}\\n\\n\"\n",
    "    messages = [{\"role\": \"system\", \"content\": updated_system_prompt}] + history + [{\"role\": \"user\", \"content\": message}]\n",
    "    response = openai.chat.completions.create(model=\"gpt-4o-mini\", messages=messages)\n",
    "    return response.choices[0].message.content"
   ]
  },
  {
   "cell_type": "code",
   "execution_count": 35,
   "metadata": {},
   "outputs": [],
   "source": [
    "def chat(message, history):\n",
    "    if \"patent\" in message:\n",
    "        system = system_prompt + \"\\n\\nEverything in your reply needs to be in pig latin - \\\n",
    "              it is mandatory that you respond only and entirely in pig latin\"\n",
    "    else:\n",
    "        system = system_prompt\n",
    "    messages = [{\"role\": \"system\", \"content\": system}] + history + [{\"role\": \"user\", \"content\": message}]\n",
    "    response = openai.chat.completions.create(model=\"gpt-4o-mini\", messages=messages)\n",
    "    reply =response.choices[0].message.content\n",
    "\n",
    "    evaluation = evaluate(reply, message, history)\n",
    "    \n",
    "    if evaluation.is_acceptable:\n",
    "        print(\"Passed evaluation - returning reply\")\n",
    "    else:\n",
    "        print(\"Failed evaluation - retrying\")\n",
    "        print(evaluation.feedback)\n",
    "        reply = rerun(reply, message, history, evaluation.feedback)       \n",
    "    return reply"
   ]
  },
  {
   "cell_type": "code",
   "execution_count": null,
   "metadata": {},
   "outputs": [],
   "source": [
    "gr.ChatInterface(chat, type=\"messages\").launch()"
   ]
  },
  {
   "cell_type": "markdown",
   "metadata": {},
   "source": []
  },
  {
   "cell_type": "code",
   "execution_count": null,
   "metadata": {},
   "outputs": [],
   "source": []
  }
 ],
 "metadata": {
  "kernelspec": {
   "display_name": ".venv",
   "language": "python",
   "name": "python3"
  },
  "language_info": {
   "codemirror_mode": {
    "name": "ipython",
    "version": 3
   },
   "file_extension": ".py",
   "mimetype": "text/x-python",
   "name": "python",
   "nbconvert_exporter": "python",
   "pygments_lexer": "ipython3",
   "version": "3.12.11"
  }
 },
 "nbformat": 4,
 "nbformat_minor": 2
}
