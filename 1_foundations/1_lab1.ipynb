{
 "cells": [
  {
   "cell_type": "markdown",
   "metadata": {},
   "source": [
    "# Welcome to the start of your adventure in Agentic AI"
   ]
  },
  {
   "cell_type": "markdown",
   "metadata": {},
   "source": [
    "<table style=\"margin: 0; text-align: left; width:100%\">\n",
    "    <tr>\n",
    "        <td style=\"width: 150px; height: 150px; vertical-align: middle;\">\n",
    "            <img src=\"../assets/stop.png\" width=\"150\" height=\"150\" style=\"display: block;\" />\n",
    "        </td>\n",
    "        <td>\n",
    "            <h2 style=\"color:#ff7800;\">Are you ready for action??</h2>\n",
    "            <span style=\"color:#ff7800;\">Have you completed all the setup steps in the <a href=\"../setup/\">setup</a> folder?<br/>\n",
    "            Have you checked out the guides in the <a href=\"../guides/01_intro.ipynb\">guides</a> folder?<br/>\n",
    "            Well in that case, you're ready!!\n",
    "            </span>\n",
    "        </td>\n",
    "    </tr>\n",
    "</table>"
   ]
  },
  {
   "cell_type": "markdown",
   "metadata": {},
   "source": [
    "<table style=\"margin: 0; text-align: left; width:100%\">\n",
    "    <tr>\n",
    "        <td style=\"width: 150px; height: 150px; vertical-align: middle;\">\n",
    "            <img src=\"../assets/tools.png\" width=\"150\" height=\"150\" style=\"display: block;\" />\n",
    "        </td>\n",
    "        <td>\n",
    "            <h2 style=\"color:#00bfff;\">This code is a live resource - keep an eye out for my updates</h2>\n",
    "            <span style=\"color:#00bfff;\">I push updates regularly. As people ask questions or have problems, I add more examples and improve explanations. As a result, the code below might not be identical to the videos, as I've added more steps and better comments. Consider this like an interactive book that accompanies the lectures.<br/><br/>\n",
    "            I try to send emails regularly with important updates related to the course. You can find this in the 'Announcements' section of Udemy in the left sidebar. You can also choose to receive my emails via your Notification Settings in Udemy. I'm respectful of your inbox and always try to add value with my emails!\n",
    "            </span>\n",
    "        </td>\n",
    "    </tr>\n",
    "</table>"
   ]
  },
  {
   "cell_type": "markdown",
   "metadata": {},
   "source": [
    "### And please do remember to contact me if I can help\n",
    "\n",
    "And I love to connect: https://www.linkedin.com/in/eddonner/\n",
    "\n",
    "\n",
    "### New to Notebooks like this one? Head over to the guides folder!\n",
    "\n",
    "Just to check you've already added the Python and Jupyter extensions to Cursor, if not already installed:\n",
    "- Open extensions (View >> extensions)\n",
    "- Search for python, and when the results show, click on the ms-python one, and Install it if not already installed\n",
    "- Search for jupyter, and when the results show, click on the Microsoft one, and Install it if not already installed  \n",
    "Then View >> Explorer to bring back the File Explorer.\n",
    "\n",
    "And then:\n",
    "1. Click where it says \"Select Kernel\" near the top right, and select the option called `.venv (Python 3.12.9)` or similar, which should be the first choice or the most prominent choice. You may need to choose \"Python Environments\" first.\n",
    "2. Click in each \"cell\" below, starting with the cell immediately below this text, and press Shift+Enter to run\n",
    "3. Enjoy!\n",
    "\n",
    "After you click \"Select Kernel\", if there is no option like `.venv (Python 3.12.9)` then please do the following:  \n",
    "1. On Mac: From the Cursor menu, choose Settings >> VS Code Settings (NOTE: be sure to select `VSCode Settings` not `Cursor Settings`);  \n",
    "On Windows PC: From the File menu, choose Preferences >> VS Code Settings(NOTE: be sure to select `VSCode Settings` not `Cursor Settings`)  \n",
    "2. In the Settings search bar, type \"venv\"  \n",
    "3. In the field \"Path to folder with a list of Virtual Environments\" put the path to the project root, like C:\\Users\\username\\projects\\agents (on a Windows PC) or /Users/username/projects/agents (on Mac or Linux).  \n",
    "And then try again.\n",
    "\n",
    "Having problems with missing Python versions in that list? Have you ever used Anaconda before? It might be interferring. Quit Cursor, bring up a new command line, and make sure that your Anaconda environment is deactivated:    \n",
    "`conda deactivate`  \n",
    "And if you still have any problems with conda and python versions, it's possible that you will need to run this too:  \n",
    "`conda config --set auto_activate_base false`  \n",
    "and then from within the Agents directory, you should be able to run `uv python list` and see the Python 3.12 version."
   ]
  },
  {
   "cell_type": "code",
   "execution_count": 1,
   "metadata": {},
   "outputs": [],
   "source": [
    "# First let's do an import\n",
    "from dotenv import load_dotenv\n"
   ]
  },
  {
   "cell_type": "code",
   "execution_count": 2,
   "metadata": {},
   "outputs": [
    {
     "data": {
      "text/plain": [
       "True"
      ]
     },
     "execution_count": 2,
     "metadata": {},
     "output_type": "execute_result"
    }
   ],
   "source": [
    "# Next it's time to load the API keys into environment variables\n",
    "\n",
    "load_dotenv(override=True)"
   ]
  },
  {
   "cell_type": "markdown",
   "metadata": {},
   "source": [
    "### Wait, did that just output `False`??\n",
    "\n",
    "If so, the most common reason is that you didn't save your `.env` file after adding the key! Be sure to have saved.\n",
    "\n",
    "Also, make sure the `.env` file is named precisely `.env` and is in the project root directory (`agents`)"
   ]
  },
  {
   "cell_type": "code",
   "execution_count": 1,
   "metadata": {},
   "outputs": [
    {
     "name": "stdout",
     "output_type": "stream",
     "text": [
      "OpenAI API Key exists and begins sk-proj-\n"
     ]
    }
   ],
   "source": [
    "# Check the keys\n",
    "# Note - if you'd like to use an LLM other than OpenAI, please check out the Guide 9 on AI APIs and Ollama in the guides folder\n",
    "\n",
    "import os\n",
    "openai_api_key = os.getenv('OPENAI_API_KEY')\n",
    "\n",
    "if openai_api_key:\n",
    "    print(f\"OpenAI API Key exists and begins {openai_api_key[:8]}\")\n",
    "else:\n",
    "    print(\"OpenAI API Key not set - please head to the troubleshooting guide in the setup folder\")\n",
    "    \n"
   ]
  },
  {
   "cell_type": "code",
   "execution_count": 2,
   "metadata": {},
   "outputs": [],
   "source": [
    "# And now - the all important import statement\n",
    "# If you get an import error - head over to troubleshooting guide\n",
    "\n",
    "from openai import OpenAI"
   ]
  },
  {
   "cell_type": "code",
   "execution_count": 3,
   "metadata": {},
   "outputs": [],
   "source": [
    "# And now we'll create an instance of the OpenAI class\n",
    "# If you're not sure what it means to create an instance of a class - head over to the guides folder!\n",
    "# If you get a NameError - head over to the guides folder to learn about NameErrors\n",
    "\n",
    "openai = OpenAI()"
   ]
  },
  {
   "cell_type": "code",
   "execution_count": 4,
   "metadata": {},
   "outputs": [],
   "source": [
    "# Create a list of messages in the familiar OpenAI format\n",
    "\n",
    "messages = [{\"role\": \"user\", \"content\": \"What is 2+2?\"}]"
   ]
  },
  {
   "cell_type": "code",
   "execution_count": 5,
   "metadata": {},
   "outputs": [
    {
     "name": "stdout",
     "output_type": "stream",
     "text": [
      "2 + 2 equals 4.\n"
     ]
    }
   ],
   "source": [
    "# And now call it! Any problems, head to the troubleshooting guide\n",
    "# This uses GPT 4.1 nano, the incredibly cheap model\n",
    "\n",
    "response = openai.chat.completions.create(\n",
    "    model=\"gpt-4.1-nano\",\n",
    "    messages=messages\n",
    ")\n",
    "\n",
    "print(response.choices[0].message.content)\n"
   ]
  },
  {
   "cell_type": "code",
   "execution_count": 8,
   "metadata": {},
   "outputs": [],
   "source": [
    "# And now - let's ask for a question:\n",
    "\n",
    "question = \"Please propose a hard, challenging question to assess someone's IQ. Respond only with the question.\"\n",
    "messages = [{\"role\": \"user\", \"content\": question}]\n"
   ]
  },
  {
   "cell_type": "code",
   "execution_count": 9,
   "metadata": {},
   "outputs": [
    {
     "name": "stdout",
     "output_type": "stream",
     "text": [
      "If all Bloops are Razzies and all Razzies are Lazzies, but some Lazzies are not Bloops, which of the following must be true?  \n",
      "A) All Bloops are Lazzies  \n",
      "B) All Lazzies are Bloops  \n",
      "C) Some Razzies are not Bloops  \n",
      "D) Some Bloops are not Lazzies\n"
     ]
    }
   ],
   "source": [
    "# ask it - this uses GPT 4.1 mini, still cheap but more powerful than nano\n",
    "\n",
    "response = openai.chat.completions.create(\n",
    "    model=\"gpt-4.1-mini\",\n",
    "    messages=messages\n",
    ")\n",
    "\n",
    "question = response.choices[0].message.content\n",
    "\n",
    "print(question)\n"
   ]
  },
  {
   "cell_type": "code",
   "execution_count": 10,
   "metadata": {},
   "outputs": [],
   "source": [
    "# form a new messages list\n",
    "messages = [{\"role\": \"user\", \"content\": question}]\n"
   ]
  },
  {
   "cell_type": "code",
   "execution_count": 11,
   "metadata": {},
   "outputs": [
    {
     "name": "stdout",
     "output_type": "stream",
     "text": [
      "Let's analyze the statements step-by-step:\n",
      "\n",
      "Given:\n",
      "1. All Bloops are Razzies.\n",
      "2. All Razzies are Lazzies.\n",
      "3. Some Lazzies are not Bloops.\n",
      "\n",
      "**Step 1:** From (1) and (2), by transitive property:\n",
      "- Since all Bloops are Razzies, and all Razzies are Lazzies, **all Bloops are Lazzies**.\n",
      "\n",
      "**Step 2:** \"Some Lazzies are not Bloops\" tells us that not all Lazzies are Bloops.\n",
      "\n",
      "Now let's check each option:\n",
      "\n",
      "A) **All Bloops are Lazzies**  \n",
      "- From step 1, this is true.\n",
      "\n",
      "B) **All Lazzies are Bloops**  \n",
      "- Given \"some Lazzies are not Bloops\" so this is false.\n",
      "\n",
      "C) **Some Razzies are not Bloops**  \n",
      "- Razzies include all Bloops but may also include others. Since some Lazzies are not Bloops and all Razzies are Lazzies, it is possible that some Razzies are not Bloops. So this could be true, but is it necessarily true?\n",
      "\n",
      "Let's see if it's *must* be true:  \n",
      "- All Bloops are Razzies, but there could be Razzies that are not Bloops (this aligns with \"some Lazzies are not Bloops\"), so some Razzies (those not Bloops) exist. Therefore, this is true.\n",
      "\n",
      "D) **Some Bloops are not Lazzies**  \n",
      "- Since all Bloops are Lazzies, this is false.\n",
      "\n",
      "**Final conclusions:**\n",
      "\n",
      "- A) True  \n",
      "- B) False  \n",
      "- C) True  \n",
      "- D) False\n",
      "\n",
      "But the question is: *Which of the following must be true?*\n",
      "\n",
      "Both A and C must be true.\n",
      "\n",
      "However, check for certainty about C:\n",
      "\n",
      "- All Bloops are Razzies.\n",
      "- All Razzies are Lazzies.\n",
      "- Some Lazzies are not Bloops.\n",
      "\n",
      "Since some Lazzies are not Bloops, and all Razzies are Lazzies, does that necessarily mean some Razzies are not Bloops? Could those \"some Lazzies\" that are not Bloops be non-Razzies?\n",
      "\n",
      "No. Because all Razzies are Lazzies, but there can be Lazzies that are not Razzies.\n",
      "\n",
      "The problem does not specify if *all* Lazzies are Razzies.\n",
      "\n",
      "So there could be some Lazzies outside Razzies that are not Bloops.\n",
      "\n",
      "Hence, \"Some Razzies are not Bloops\" is not necessarily true.\n",
      "\n",
      "For example:\n",
      "\n",
      "- Bloops = {B}\n",
      "- Razzies = {B} (same as Bloops)\n",
      "- Lazzies = {B, L1} where L1 is a Lazzie not in Razzies and not a Bloop.\n",
      "\n",
      "This satisfies all conditions but has no Razzie that is not a Bloop.\n",
      "\n",
      "Therefore, **C does not have to be true**.\n",
      "\n",
      "**Answer: A) All Bloops are Lazzies**\n",
      "\n",
      "---\n",
      "\n",
      "**Summary:**\n",
      "\n",
      "- Only A must be true.  \n",
      "- B and D are false, and C is not necessarily true.\n",
      "\n",
      "# Final answer:\n",
      "\n",
      "**A) All Bloops are Lazzies**\n"
     ]
    }
   ],
   "source": [
    "# Ask it again\n",
    "\n",
    "response = openai.chat.completions.create(\n",
    "    model=\"gpt-4.1-mini\",\n",
    "    messages=messages\n",
    ")\n",
    "\n",
    "answer = response.choices[0].message.content\n",
    "print(answer)\n"
   ]
  },
  {
   "cell_type": "code",
   "execution_count": 12,
   "metadata": {},
   "outputs": [
    {
     "data": {
      "text/markdown": [
       "Let's analyze the statements step-by-step:\n",
       "\n",
       "Given:\n",
       "1. All Bloops are Razzies.\n",
       "2. All Razzies are Lazzies.\n",
       "3. Some Lazzies are not Bloops.\n",
       "\n",
       "**Step 1:** From (1) and (2), by transitive property:\n",
       "- Since all Bloops are Razzies, and all Razzies are Lazzies, **all Bloops are Lazzies**.\n",
       "\n",
       "**Step 2:** \"Some Lazzies are not Bloops\" tells us that not all Lazzies are Bloops.\n",
       "\n",
       "Now let's check each option:\n",
       "\n",
       "A) **All Bloops are Lazzies**  \n",
       "- From step 1, this is true.\n",
       "\n",
       "B) **All Lazzies are Bloops**  \n",
       "- Given \"some Lazzies are not Bloops\" so this is false.\n",
       "\n",
       "C) **Some Razzies are not Bloops**  \n",
       "- Razzies include all Bloops but may also include others. Since some Lazzies are not Bloops and all Razzies are Lazzies, it is possible that some Razzies are not Bloops. So this could be true, but is it necessarily true?\n",
       "\n",
       "Let's see if it's *must* be true:  \n",
       "- All Bloops are Razzies, but there could be Razzies that are not Bloops (this aligns with \"some Lazzies are not Bloops\"), so some Razzies (those not Bloops) exist. Therefore, this is true.\n",
       "\n",
       "D) **Some Bloops are not Lazzies**  \n",
       "- Since all Bloops are Lazzies, this is false.\n",
       "\n",
       "**Final conclusions:**\n",
       "\n",
       "- A) True  \n",
       "- B) False  \n",
       "- C) True  \n",
       "- D) False\n",
       "\n",
       "But the question is: *Which of the following must be true?*\n",
       "\n",
       "Both A and C must be true.\n",
       "\n",
       "However, check for certainty about C:\n",
       "\n",
       "- All Bloops are Razzies.\n",
       "- All Razzies are Lazzies.\n",
       "- Some Lazzies are not Bloops.\n",
       "\n",
       "Since some Lazzies are not Bloops, and all Razzies are Lazzies, does that necessarily mean some Razzies are not Bloops? Could those \"some Lazzies\" that are not Bloops be non-Razzies?\n",
       "\n",
       "No. Because all Razzies are Lazzies, but there can be Lazzies that are not Razzies.\n",
       "\n",
       "The problem does not specify if *all* Lazzies are Razzies.\n",
       "\n",
       "So there could be some Lazzies outside Razzies that are not Bloops.\n",
       "\n",
       "Hence, \"Some Razzies are not Bloops\" is not necessarily true.\n",
       "\n",
       "For example:\n",
       "\n",
       "- Bloops = {B}\n",
       "- Razzies = {B} (same as Bloops)\n",
       "- Lazzies = {B, L1} where L1 is a Lazzie not in Razzies and not a Bloop.\n",
       "\n",
       "This satisfies all conditions but has no Razzie that is not a Bloop.\n",
       "\n",
       "Therefore, **C does not have to be true**.\n",
       "\n",
       "**Answer: A) All Bloops are Lazzies**\n",
       "\n",
       "---\n",
       "\n",
       "**Summary:**\n",
       "\n",
       "- Only A must be true.  \n",
       "- B and D are false, and C is not necessarily true.\n",
       "\n",
       "# Final answer:\n",
       "\n",
       "**A) All Bloops are Lazzies**"
      ],
      "text/plain": [
       "<IPython.core.display.Markdown object>"
      ]
     },
     "metadata": {},
     "output_type": "display_data"
    }
   ],
   "source": [
    "from IPython.display import Markdown, display\n",
    "\n",
    "display(Markdown(answer))\n",
    "\n"
   ]
  },
  {
   "cell_type": "markdown",
   "metadata": {},
   "source": [
    "# Congratulations!\n",
    "\n",
    "That was a small, simple step in the direction of Agentic AI, with your new environment!\n",
    "\n",
    "Next time things get more interesting..."
   ]
  },
  {
   "cell_type": "markdown",
   "metadata": {},
   "source": [
    "<table style=\"margin: 0; text-align: left; width:100%\">\n",
    "    <tr>\n",
    "        <td style=\"width: 150px; height: 150px; vertical-align: middle;\">\n",
    "            <img src=\"../assets/exercise.png\" width=\"150\" height=\"150\" style=\"display: block;\" />\n",
    "        </td>\n",
    "        <td>\n",
    "            <h2 style=\"color:#ff7800;\">Exercise</h2>\n",
    "            <span style=\"color:#ff7800;\">Now try this commercial application:<br/>\n",
    "            First ask the LLM to pick a business area that might be worth exploring for an Agentic AI opportunity.<br/>\n",
    "            Then ask the LLM to present a pain-point in that industry - something challenging that might be ripe for an Agentic solution.<br/>\n",
    "            Finally have 3 third LLM call propose the Agentic AI solution.\n",
    "            </span>\n",
    "        </td>\n",
    "    </tr>\n",
    "</table>"
   ]
  },
  {
   "cell_type": "code",
   "execution_count": 20,
   "metadata": {},
   "outputs": [
    {
     "name": "stdout",
     "output_type": "stream",
     "text": [
      "A1: One promising business area for an agentic AI opportunity is personalized healthcare management. This includes AI systems that proactively manage individual health by analyzing medical data, lifestyle habits, and genetic information to provide real-time health recommendations, schedule medical appointments, and even alert healthcare providers in case of emergencies. Such agentic AI could act autonomously to improve patient outcomes and reduce healthcare costs.\n",
      "[{'role': 'system', 'content': 'Label all responses with A[n] and questions with Q[n].'}, {'role': 'user', 'content': 'Q1: Pick a business area that might be worth exploring for an agentic AI opportunity'}, {'role': 'assistant', 'content': 'A1: One promising business area for an agentic AI opportunity is personalized healthcare management. This includes AI systems that proactively manage individual health by analyzing medical data, lifestyle habits, and genetic information to provide real-time health recommendations, schedule medical appointments, and even alert healthcare providers in case of emergencies. Such agentic AI could act autonomously to improve patient outcomes and reduce healthcare costs.'}]\n"
     ]
    }
   ],
   "source": [
    "# First create the messages:\n",
    "\n",
    "messages = [{\"role\": \"system\", \"content\": \"Label all responses with A[n] and questions with Q[n].\"},\n",
    "{\"role\": \"user\", \"content\": \"Q1: Pick a business area that might be worth exploring for an agentic AI opportunity\"}]\n",
    "\n",
    "# Then make the first call:\n",
    "\n",
    "response = openai.chat.completions.create(\n",
    "    model=\"gpt-4.1-mini\",\n",
    "    messages=messages\n",
    ")\n",
    "\n",
    "# Then read the business idea:\n",
    "reply = response.choices[0].message.content\n",
    "print(reply)\n",
    "\n",
    "messages.append({\"role\": \"assistant\", \"content\": reply})\n",
    "print(messages)"
   ]
  },
  {
   "cell_type": "markdown",
   "metadata": {},
   "source": []
  },
  {
   "cell_type": "code",
   "execution_count": 21,
   "metadata": {},
   "outputs": [
    {
     "name": "stdout",
     "output_type": "stream",
     "text": [
      "Assistant:  Q2: What is a significant pain point in the personalized healthcare management industry that could be addressed by an agentic AI?\n",
      "Assistant:  A2: A significant pain point in personalized healthcare management is the lack of continuous, proactive health monitoring and intervention, leading to delayed detection of health issues and poor adherence to treatment plans.\n",
      "\n",
      "A3: An agentic AI solution to this pain point could be a continuous health assistant that autonomously monitors patients' health data from wearable devices, electronic health records, and lifestyle inputs. This AI would identify early warning signs of potential health problems, provide personalized recommendations, schedule necessary medical appointments, and coordinate with healthcare providers for timely interventions—all without requiring constant user input. This proactive approach could improve patient outcomes and reduce hospitalizations.\n"
     ]
    }
   ],
   "source": [
    "\n",
    "# And repeat!\n",
    "follow_up = \"Present a pain point in the industry that might be worth exploring for an agentic AI opportunity\"\n",
    "messages.append({\"role\": \"user\", \"content\": follow_up})\n",
    "\n",
    "response = openai.chat.completions.create(\n",
    "    model=\"gpt-4.1-mini\",\n",
    "    messages=messages\n",
    ")\n",
    "\n",
    "reply = response.choices[0].message.content\n",
    "print(\"Assistant: \", reply)\n",
    "messages.append({\"role\": \"assistant\", \"content\": reply})\n",
    "\n",
    "follow_up = \"Propose an agentic AI solution to the pain point\"\n",
    "messages.append({\"role\": \"user\", \"content\": follow_up})\n",
    "\n",
    "response = openai.chat.completions.create(\n",
    "    model=\"gpt-4.1-mini\",\n",
    "    messages=messages\n",
    ")\n",
    "\n",
    "reply = response.choices[0].message.content\n",
    "print(\"Assistant: \", reply)\n",
    "messages.append({\"role\": \"assistant\", \"content\": reply})\n",
    "\n"
   ]
  },
  {
   "cell_type": "markdown",
   "metadata": {},
   "source": []
  }
 ],
 "metadata": {
  "kernelspec": {
   "display_name": ".venv",
   "language": "python",
   "name": "python3"
  },
  "language_info": {
   "codemirror_mode": {
    "name": "ipython",
    "version": 3
   },
   "file_extension": ".py",
   "mimetype": "text/x-python",
   "name": "python",
   "nbconvert_exporter": "python",
   "pygments_lexer": "ipython3",
   "version": "3.12.11"
  }
 },
 "nbformat": 4,
 "nbformat_minor": 2
}
